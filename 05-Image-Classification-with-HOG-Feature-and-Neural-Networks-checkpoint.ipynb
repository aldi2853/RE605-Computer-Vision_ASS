{
 "cells": [
  {
   "cell_type": "code",
   "execution_count": null,
   "id": "welcome-thesaurus",
   "metadata": {},
   "outputs": [],
   "source": [
    "import matplotlib.pyplot as plt\n",
    "from skimage.feature import hog\n",
    "from sklearn import datasets\n",
    "from mlxtend.data import loadlocal_mnist\n",
    "from sklearn.neural_network import MLPClassifier"
   ]
  },
  {
   "cell_type": "markdown",
   "id": "korean-fancy",
   "metadata": {},
   "source": [
    "# Image Classification with HOG Feature and Neural Networks"
   ]
  },
  {
   "cell_type": "markdown",
   "id": "laden-franklin",
   "metadata": {},
   "source": [
    "## 1. Dataset Preparation"
   ]
  },
  {
   "cell_type": "code",
   "execution_count": 17,
   "id": "indonesian-valuation",
   "metadata": {
    "scrolled": false
   },
   "outputs": [
    {
     "name": "stderr",
     "output_type": "stream",
     "text": [
      "Invalid switch - \"mnist-dataset\".\n"
     ]
    }
   ],
   "source": [
    "ls images/mnist-dataset/"
   ]
  },
  {
   "cell_type": "markdown",
   "id": "involved-botswana",
   "metadata": {},
   "source": [
    "**Load image dataset**"
   ]
  },
  {
   "cell_type": "code",
   "execution_count": 24,
   "id": "fixed-norwegian",
   "metadata": {},
   "outputs": [
    {
     "ename": "NameError",
     "evalue": "name 'loadlocal_mnist' is not defined",
     "output_type": "error",
     "traceback": [
      "\u001b[1;31m---------------------------------------------------------------------------\u001b[0m",
      "\u001b[1;31mNameError\u001b[0m                                 Traceback (most recent call last)",
      "Cell \u001b[1;32mIn[24], line 1\u001b[0m\n\u001b[1;32m----> 1\u001b[0m train_images, train_labels \u001b[38;5;241m=\u001b[39m loadlocal_mnist(images_path\u001b[38;5;241m=\u001b[39m\u001b[38;5;124m'\u001b[39m\u001b[38;5;124mimages/mnist-dataset/train-images-idx3-ubyte\u001b[39m\u001b[38;5;124m'\u001b[39m,\n\u001b[0;32m      2\u001b[0m                                              labels_path\u001b[38;5;241m=\u001b[39m\u001b[38;5;124m'\u001b[39m\u001b[38;5;124mimages/mnist-dataset/train-labels-idx1-ubyte\u001b[39m\u001b[38;5;124m'\u001b[39m)\n",
      "\u001b[1;31mNameError\u001b[0m: name 'loadlocal_mnist' is not defined"
     ]
    }
   ],
   "source": [
    "train_images, train_labels = loadlocal_mnist(images_path='images/mnist-dataset/train-images-idx3-ubyte',\n",
    "                                             labels_path='images/mnist-dataset/train-labels-idx1-ubyte')"
   ]
  },
  {
   "cell_type": "code",
   "execution_count": 5,
   "id": "downtown-above",
   "metadata": {},
   "outputs": [],
   "source": [
    "test_images, test_labels = loadlocal_mnist(images_path='images/mnist-dataset/t10k-images-idx3-ubyte',\n",
    "                                             labels_path='images/mnist-dataset/t10k-labels-idx1-ubyte')"
   ]
  },
  {
   "cell_type": "code",
   "execution_count": 16,
   "id": "chief-exhibition",
   "metadata": {},
   "outputs": [
    {
     "data": {
      "text/plain": [
       "<matplotlib.image.AxesImage at 0x7fc015fde350>"
      ]
     },
     "execution_count": 16,
     "metadata": {},
     "output_type": "execute_result"
    },
    {
     "data": {
      "image/png": "[encoded data removed]",
      "text/plain": [
       "<Figure size 432x288 with 1 Axes>"
      ]
     },
     "metadata": {
      "needs_background": "light"
     },
     "output_type": "display_data"
    }
   ],
   "source": [
    "plt.imshow(train_images[1].reshape(28,28), cmap='gray')"
   ]
  },
  {
   "cell_type": "code",
   "execution_count": 17,
   "id": "international-router",
   "metadata": {},
   "outputs": [
    {
     "data": {
      "text/plain": [
       "0"
      ]
     },
     "execution_count": 17,
     "metadata": {},
     "output_type": "execute_result"
    }
   ],
   "source": [
    "train_labels[1]"
   ]
  },
  {
   "cell_type": "markdown",
   "id": "attempted-concord",
   "metadata": {},
   "source": [
    "**Test extract HOG feature from image**"
   ]
  },
  {
   "cell_type": "code",
   "execution_count": 20,
   "id": "geographic-writer",
   "metadata": {},
   "outputs": [],
   "source": [
    "feature, hog_img = hog(train_images[1].reshape(28,28), orientations=9, pixels_per_cell=(8, 8), cells_per_block=(2,2), visualize=True, block_norm='L2')"
   ]
  },
  {
   "cell_type": "code",
   "execution_count": 22,
   "id": "registered-sense",
   "metadata": {},
   "outputs": [
    {
     "data": {
      "text/plain": [
       "(144,)"
      ]
     },
     "execution_count": 22,
     "metadata": {},
     "output_type": "execute_result"
    }
   ],
   "source": [
    "feature.shape"
   ]
  },
  {
   "cell_type": "code",
   "execution_count": 26,
   "id": "official-morgan",
   "metadata": {},
   "outputs": [
    {
     "data": {
      "text/plain": [
       "<BarContainer object of 144 artists>"
      ]
     },
     "execution_count": 26,
     "metadata": {},
     "output_type": "execute_result"
    },
    {
     "data": {
      "image/png": "[encoded data removed]",
      "text/plain": [
       "<Figure size 432x288 with 1 Axes>"
      ]
     },
     "metadata": {
      "needs_background": "light"
     },
     "output_type": "display_data"
    }
   ],
   "source": [
    "plt.bar(list(range(feature.shape[0])), feature)"
   ]
  },
  {
   "cell_type": "code",
   "execution_count": 27,
   "id": "accessory-hopkins",
   "metadata": {},
   "outputs": [],
   "source": [
    "feature, hog_img = hog(train_images[0].reshape(28,28), orientations=9, pixels_per_cell=(8, 8), cells_per_block=(2,2), visualize=True, block_norm='L2')"
   ]
  },
  {
   "cell_type": "code",
   "execution_count": 28,
   "id": "acceptable-hampton",
   "metadata": {},
   "outputs": [
    {
     "data": {
      "text/plain": [
       "<BarContainer object of 144 artists>"
      ]
     },
     "execution_count": 28,
     "metadata": {},
     "output_type": "execute_result"
    },
    {
     "data": {
      "image/png": "[encoded data removed]",
      "text/plain": [
       "<Figure size 432x288 with 1 Axes>"
      ]
     },
     "metadata": {
      "needs_background": "light"
     },
     "output_type": "display_data"
    }
   ],
   "source": [
    "plt.bar(list(range(feature.shape[0])), feature)"
   ]
  },
  {
   "cell_type": "markdown",
   "id": "statistical-medicaid",
   "metadata": {},
   "source": [
    "## 2. Preprocessing using HOG Feature Extraction"
   ]
  },
  {
   "cell_type": "code",
   "execution_count": 29,
   "id": "magnetic-external",
   "metadata": {},
   "outputs": [],
   "source": [
    "n_dims = feature.shape[0]"
   ]
  },
  {
   "cell_type": "code",
   "execution_count": 30,
   "id": "twenty-allah",
   "metadata": {},
   "outputs": [
    {
     "data": {
      "text/plain": [
       "144"
      ]
     },
     "execution_count": 30,
     "metadata": {},
     "output_type": "execute_result"
    }
   ],
   "source": [
    "n_dims"
   ]
  },
  {
   "cell_type": "code",
   "execution_count": 31,
   "id": "statutory-photography",
   "metadata": {},
   "outputs": [],
   "source": [
    "n_samples = train_images.shape[0]"
   ]
  },
  {
   "cell_type": "code",
   "execution_count": 32,
   "id": "classical-insulin",
   "metadata": {},
   "outputs": [
    {
     "data": {
      "text/plain": [
       "60000"
      ]
     },
     "execution_count": 32,
     "metadata": {},
     "output_type": "execute_result"
    }
   ],
   "source": [
    "n_samples"
   ]
  },
  {
   "cell_type": "markdown",
   "id": "younger-lighting",
   "metadata": {},
   "source": [
    "**Create variable for dataset**"
   ]
  },
  {
   "cell_type": "code",
   "execution_count": 36,
   "id": "sudden-hearing",
   "metadata": {},
   "outputs": [],
   "source": [
    "X_train, y_train = datasets.make_classification(n_samples=n_samples, n_features=n_dims)"
   ]
  },
  {
   "cell_type": "code",
   "execution_count": 40,
   "id": "following-millennium",
   "metadata": {},
   "outputs": [
    {
     "data": {
      "text/plain": [
       "(60000, 144)"
      ]
     },
     "execution_count": 40,
     "metadata": {},
     "output_type": "execute_result"
    }
   ],
   "source": [
    "X_train.shape"
   ]
  },
  {
   "cell_type": "markdown",
   "id": "aggressive-details",
   "metadata": {},
   "source": [
    "**Get HOG feature from each image & put into dataset variable**"
   ]
  },
  {
   "cell_type": "code",
   "execution_count": 42,
   "id": "handy-spanking",
   "metadata": {},
   "outputs": [],
   "source": [
    "for i in range(n_samples):\n",
    "    X_train[i], _ = hog(train_images[i].reshape(28,28), orientations=9, pixels_per_cell=(8, 8), cells_per_block=(2,2), visualize=True, block_norm='L2')\n",
    "    y_train[i] = train_labels[i]"
   ]
  },
  {
   "cell_type": "markdown",
   "id": "interstate-oxide",
   "metadata": {},
   "source": [
    "**Convert categorical label to one hot label**"
   ]
  },
  {
   "cell_type": "code",
   "execution_count": 43,
   "id": "outdoor-worthy",
   "metadata": {},
   "outputs": [],
   "source": [
    "from sklearn.preprocessing import LabelBinarizer"
   ]
  },
  {
   "cell_type": "code",
   "execution_count": 44,
   "id": "australian-simpson",
   "metadata": {},
   "outputs": [],
   "source": [
    "lb = LabelBinarizer()"
   ]
  },
  {
   "cell_type": "code",
   "execution_count": 45,
   "id": "atlantic-religious",
   "metadata": {},
   "outputs": [
    {
     "data": {
      "text/plain": [
       "LabelBinarizer()"
      ]
     },
     "execution_count": 45,
     "metadata": {},
     "output_type": "execute_result"
    }
   ],
   "source": [
    "lb.fit(y_train)"
   ]
  },
  {
   "cell_type": "code",
   "execution_count": 46,
   "id": "contained-poetry",
   "metadata": {},
   "outputs": [],
   "source": [
    "y_train_one_hot = lb.transform(y_train)"
   ]
  },
  {
   "cell_type": "code",
   "execution_count": 60,
   "id": "basic-editing",
   "metadata": {},
   "outputs": [
    {
     "data": {
      "text/plain": [
       "array([0, 0, 0, 0, 0, 1, 0, 0, 0, 0])"
      ]
     },
     "execution_count": 60,
     "metadata": {},
     "output_type": "execute_result"
    }
   ],
   "source": [
    "y_train_one_hot[0]"
   ]
  },
  {
   "cell_type": "code",
   "execution_count": 61,
   "id": "comparative-breach",
   "metadata": {},
   "outputs": [
    {
     "data": {
      "text/plain": [
       "5"
      ]
     },
     "execution_count": 61,
     "metadata": {},
     "output_type": "execute_result"
    }
   ],
   "source": [
    "y_train[0]"
   ]
  },
  {
   "cell_type": "code",
   "execution_count": 62,
   "id": "responsible-rider",
   "metadata": {},
   "outputs": [],
   "source": [
    "import numpy as np"
   ]
  },
  {
   "cell_type": "code",
   "execution_count": 63,
   "id": "sophisticated-retro",
   "metadata": {},
   "outputs": [],
   "source": [
    "label = lb.inverse_transform(np.array([y_train_one_hot[0]]))"
   ]
  },
  {
   "cell_type": "code",
   "execution_count": 64,
   "id": "toxic-lafayette",
   "metadata": {},
   "outputs": [
    {
     "data": {
      "text/plain": [
       "5"
      ]
     },
     "execution_count": 64,
     "metadata": {},
     "output_type": "execute_result"
    }
   ],
   "source": [
    "label[0]"
   ]
  },
  {
   "cell_type": "markdown",
   "id": "present-exhibit",
   "metadata": {},
   "source": [
    "## 3. Classification with Neural Networks"
   ]
  },
  {
   "attachments": {
    "network.svg": {
     "image/svg+xml": [
      "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"
     ]
    }
   },
   "cell_type": "markdown",
   "id": "banner-prefix",
   "metadata": {},
   "source": [
    "![network.svg](attachment:network.svg)"
   ]
  },
  {
   "cell_type": "code",
   "execution_count": 66,
   "id": "declared-schema",
   "metadata": {},
   "outputs": [],
   "source": [
    "clf = MLPClassifier(hidden_layer_sizes=(128, 64, 10), solver='sgd', learning_rate_init=0.001, max_iter=100)"
   ]
  },
  {
   "cell_type": "code",
   "execution_count": 67,
   "id": "choice-defeat",
   "metadata": {},
   "outputs": [
    {
     "name": "stderr",
     "output_type": "stream",
     "text": [
      "/home/ekorudiawan/anaconda3/envs/dl/lib/python3.7/site-packages/sklearn/neural_network/_multilayer_perceptron.py:585: ConvergenceWarning: Stochastic Optimizer: Maximum iterations (100) reached and the optimization hasn't converged yet.\n",
      "  % self.max_iter, ConvergenceWarning)\n"
     ]
    },
    {
     "data": {
      "text/plain": [
       "MLPClassifier(hidden_layer_sizes=(128, 64, 10), max_iter=100, solver='sgd')"
      ]
     },
     "execution_count": 67,
     "metadata": {},
     "output_type": "execute_result"
    }
   ],
   "source": [
    "clf.fit(X_train, y_train_one_hot)"
   ]
  },
  {
   "cell_type": "markdown",
   "id": "described-intersection",
   "metadata": {},
   "source": [
    "## 4. Predict Test Dataset "
   ]
  },
  {
   "cell_type": "code",
   "execution_count": 68,
   "id": "remarkable-sample",
   "metadata": {},
   "outputs": [],
   "source": [
    "n_samples = test_images.shape[0]"
   ]
  },
  {
   "cell_type": "code",
   "execution_count": 69,
   "id": "concrete-forth",
   "metadata": {},
   "outputs": [],
   "source": [
    "X_test, y_test = datasets.make_classification(n_samples=n_samples, n_features=n_dims)"
   ]
  },
  {
   "cell_type": "code",
   "execution_count": 70,
   "id": "naked-credits",
   "metadata": {},
   "outputs": [],
   "source": [
    "for i in range(n_samples):\n",
    "    X_test[i], _ = hog(test_images[i].reshape(28,28), orientations=9, pixels_per_cell=(8, 8), cells_per_block=(2,2), visualize=True, block_norm='L2')\n",
    "    y_test[i] = test_labels[i]"
   ]
  },
  {
   "cell_type": "code",
   "execution_count": 72,
   "id": "skilled-tutorial",
   "metadata": {},
   "outputs": [],
   "source": [
    "y_test_one_hot = lb.transform(y_test)"
   ]
  },
  {
   "cell_type": "code",
   "execution_count": 76,
   "id": "suited-appointment",
   "metadata": {},
   "outputs": [],
   "source": [
    "y_pred_one_hot = clf.predict(X_test)"
   ]
  },
  {
   "cell_type": "code",
   "execution_count": 79,
   "id": "hollywood-biology",
   "metadata": {},
   "outputs": [],
   "source": [
    "y_pred = lb.inverse_transform(y_pred_one_hot)"
   ]
  },
  {
   "cell_type": "code",
   "execution_count": 81,
   "id": "chronic-joint",
   "metadata": {},
   "outputs": [
    {
     "data": {
      "text/plain": [
       "array([7, 2, 1, ..., 4, 5, 6])"
      ]
     },
     "execution_count": 81,
     "metadata": {},
     "output_type": "execute_result"
    }
   ],
   "source": [
    "y_pred"
   ]
  },
  {
   "cell_type": "code",
   "execution_count": 94,
   "id": "multiple-hayes",
   "metadata": {},
   "outputs": [
    {
     "data": {
      "text/plain": [
       "<matplotlib.image.AxesImage at 0x7fc0154ff650>"
      ]
     },
     "execution_count": 94,
     "metadata": {},
     "output_type": "execute_result"
    },
    {
     "data": {
      "image/png": "[encoded data removed]",
      "text/plain": [
       "<Figure size 432x288 with 1 Axes>"
      ]
     },
     "metadata": {
      "needs_background": "light"
     },
     "output_type": "display_data"
    }
   ],
   "source": [
    "plt.imshow(test_images[20].reshape(28,28), cmap='gray')"
   ]
  },
  {
   "cell_type": "code",
   "execution_count": 95,
   "id": "thick-requirement",
   "metadata": {},
   "outputs": [],
   "source": [
    "out_one_hot = clf.predict(X_test[20].reshape(1, n_dims))"
   ]
  },
  {
   "cell_type": "code",
   "execution_count": 96,
   "id": "neural-patrick",
   "metadata": {},
   "outputs": [
    {
     "data": {
      "text/plain": [
       "array([[0, 0, 0, 0, 0, 0, 0, 0, 0, 1]])"
      ]
     },
     "execution_count": 96,
     "metadata": {},
     "output_type": "execute_result"
    }
   ],
   "source": [
    "out_one_hot"
   ]
  },
  {
   "cell_type": "code",
   "execution_count": 97,
   "id": "integral-thesaurus",
   "metadata": {},
   "outputs": [],
   "source": [
    "out = lb.inverse_transform(out_one_hot.reshape(1,10))"
   ]
  },
  {
   "cell_type": "code",
   "execution_count": 98,
   "id": "played-transition",
   "metadata": {},
   "outputs": [
    {
     "data": {
      "text/plain": [
       "9"
      ]
     },
     "execution_count": 98,
     "metadata": {},
     "output_type": "execute_result"
    }
   ],
   "source": [
    "out[0]"
   ]
  },
  {
   "cell_type": "markdown",
   "id": "suburban-backing",
   "metadata": {},
   "source": [
    "## 5. Evaluation Metrics"
   ]
  },
  {
   "attachments": {
    "conf-matrix.png": {
     "image/png": "[encoded data removed]"
    }
   },
   "cell_type": "markdown",
   "id": "baking-large",
   "metadata": {},
   "source": [
    "### 5. 1 Confussion Matrix\n",
    "\n",
    "![conf-matrix.png](attachment:conf-matrix.png)"
   ]
  },
  {
   "cell_type": "code",
   "execution_count": 99,
   "id": "friendly-ceiling",
   "metadata": {},
   "outputs": [],
   "source": [
    "from sklearn.metrics import confusion_matrix"
   ]
  },
  {
   "cell_type": "code",
   "execution_count": 100,
   "id": "shaped-lawyer",
   "metadata": {},
   "outputs": [],
   "source": [
    "conf_mat = confusion_matrix(y_test, y_pred)"
   ]
  },
  {
   "cell_type": "code",
   "execution_count": 101,
   "id": "failing-edmonton",
   "metadata": {},
   "outputs": [
    {
     "data": {
      "text/plain": [
       "array([[ 973,    0,    0,    0,    1,    3,    0,    1,    1,    1],\n",
       "       [  19, 1108,    3,    0,    3,    0,    2,    0,    0,    0],\n",
       "       [  41,    1,  977,    4,    3,    0,    1,    4,    0,    1],\n",
       "       [  37,    0,   11,  948,    0,    3,    0,    3,    1,    7],\n",
       "       [  44,    3,    1,    1,  916,    0,    6,    4,    0,    7],\n",
       "       [  30,    0,    1,   10,    0,  844,    3,    1,    2,    1],\n",
       "       [  25,    0,    0,    0,    3,   10,  920,    0,    0,    0],\n",
       "       [  47,    4,   20,    3,    7,    1,    0,  936,    0,   10],\n",
       "       [  37,    2,    5,   14,    1,    7,    2,    0,  895,   11],\n",
       "       [  41,    0,    0,    1,    8,    5,    0,   11,   13,  930]])"
      ]
     },
     "execution_count": 101,
     "metadata": {},
     "output_type": "execute_result"
    }
   ],
   "source": [
    "conf_mat"
   ]
  },
  {
   "cell_type": "code",
   "execution_count": 102,
   "id": "representative-prerequisite",
   "metadata": {},
   "outputs": [],
   "source": [
    "from mlxtend.plotting import plot_confusion_matrix"
   ]
  },
  {
   "cell_type": "code",
   "execution_count": 105,
   "id": "flexible-savannah",
   "metadata": {},
   "outputs": [],
   "source": [
    "class_names = ['0', '1', '2', '3', '4', '5', '6', '7', '8', '9']"
   ]
  },
  {
   "cell_type": "code",
   "execution_count": 106,
   "id": "coupled-apache",
   "metadata": {},
   "outputs": [
    {
     "data": {
      "image/png": "[encoded data removed]",
      "text/plain": [
       "<Figure size 432x288 with 1 Axes>"
      ]
     },
     "metadata": {
      "needs_background": "light"
     },
     "output_type": "display_data"
    }
   ],
   "source": [
    "fig, ax = plot_confusion_matrix(conf_mat=conf_mat, class_names=class_names)"
   ]
  },
  {
   "cell_type": "markdown",
   "id": "unnecessary-responsibility",
   "metadata": {},
   "source": [
    "### 5.2 Precission"
   ]
  },
  {
   "cell_type": "markdown",
   "id": "unauthorized-queue",
   "metadata": {},
   "source": [
    "$$\\text { Precision }=\\frac{T P}{T P+F P}$$"
   ]
  },
  {
   "cell_type": "code",
   "execution_count": 107,
   "id": "protected-suggestion",
   "metadata": {},
   "outputs": [],
   "source": [
    "from sklearn.metrics import precision_score"
   ]
  },
  {
   "cell_type": "code",
   "execution_count": 109,
   "id": "centered-sector",
   "metadata": {},
   "outputs": [],
   "source": [
    "precision = precision_score(y_test, y_pred, average=None)"
   ]
  },
  {
   "cell_type": "code",
   "execution_count": 110,
   "id": "collect-status",
   "metadata": {},
   "outputs": [
    {
     "data": {
      "text/plain": [
       "array([0.75193199, 0.99105546, 0.95972495, 0.96636086, 0.97239915,\n",
       "       0.96678121, 0.98501071, 0.975     , 0.98135965, 0.9607438 ])"
      ]
     },
     "execution_count": 110,
     "metadata": {},
     "output_type": "execute_result"
    }
   ],
   "source": [
    "precision"
   ]
  },
  {
   "cell_type": "markdown",
   "id": "serious-tiger",
   "metadata": {},
   "source": [
    "### 5.3 Recall"
   ]
  },
  {
   "cell_type": "markdown",
   "id": "weekly-andrews",
   "metadata": {},
   "source": [
    "$$\\text { Recall }=\\frac{T P}{T P+F N}$$"
   ]
  },
  {
   "cell_type": "code",
   "execution_count": 111,
   "id": "linear-strap",
   "metadata": {},
   "outputs": [],
   "source": [
    "from sklearn.metrics import recall_score"
   ]
  },
  {
   "cell_type": "code",
   "execution_count": 112,
   "id": "canadian-valuable",
   "metadata": {},
   "outputs": [],
   "source": [
    "recall = recall_score(y_test, y_pred, average=None)"
   ]
  },
  {
   "cell_type": "code",
   "execution_count": 113,
   "id": "confident-brave",
   "metadata": {},
   "outputs": [
    {
     "data": {
      "text/plain": [
       "array([0.99285714, 0.97621145, 0.94670543, 0.93861386, 0.93279022,\n",
       "       0.94618834, 0.96033403, 0.91050584, 0.91889117, 0.92170466])"
      ]
     },
     "execution_count": 113,
     "metadata": {},
     "output_type": "execute_result"
    }
   ],
   "source": [
    "recall"
   ]
  },
  {
   "cell_type": "markdown",
   "id": "small-aircraft",
   "metadata": {},
   "source": [
    "### 5.4 Accuracy"
   ]
  },
  {
   "cell_type": "markdown",
   "id": "checked-assembly",
   "metadata": {},
   "source": [
    "$$\\text { Accuracy }=\\frac{T P+T N}{T P+T N+F P+F N}$$"
   ]
  },
  {
   "cell_type": "code",
   "execution_count": 114,
   "id": "ranking-silence",
   "metadata": {},
   "outputs": [],
   "source": [
    "from sklearn.metrics import accuracy_score"
   ]
  },
  {
   "cell_type": "code",
   "execution_count": 115,
   "id": "posted-worst",
   "metadata": {},
   "outputs": [],
   "source": [
    "accuracy = accuracy_score(y_test, y_pred)"
   ]
  },
  {
   "cell_type": "code",
   "execution_count": 116,
   "id": "joined-listening",
   "metadata": {},
   "outputs": [
    {
     "data": {
      "text/plain": [
       "0.9447"
      ]
     },
     "execution_count": 116,
     "metadata": {},
     "output_type": "execute_result"
    }
   ],
   "source": [
    "accuracy"
   ]
  },
  {
   "cell_type": "markdown",
   "id": "sublime-barrel",
   "metadata": {},
   "source": [
    "### 5.5 F1-Score"
   ]
  },
  {
   "cell_type": "markdown",
   "id": "after-prediction",
   "metadata": {},
   "source": [
    "$$\\text { F1-Score }=\\left(\\frac{2}{\\text { precision }^{-1}+\\text { recall }^{-1}}\\right)=2 \\cdot\\left(\\frac{\\text { precision } \\cdot \\text { recall }}{\\text { precision }+\\text { recall }}\\right)$$"
   ]
  },
  {
   "cell_type": "code",
   "execution_count": 121,
   "id": "bizarre-bermuda",
   "metadata": {},
   "outputs": [],
   "source": [
    "from sklearn.metrics import f1_score"
   ]
  },
  {
   "cell_type": "code",
   "execution_count": 122,
   "id": "hungarian-probe",
   "metadata": {},
   "outputs": [],
   "source": [
    "f1 = f1_score(y_test, y_pred, average='macro')"
   ]
  },
  {
   "cell_type": "code",
   "execution_count": 123,
   "id": "floating-corner",
   "metadata": {},
   "outputs": [
    {
     "data": {
      "text/plain": [
       "0.9457434932019642"
      ]
     },
     "execution_count": 123,
     "metadata": {},
     "output_type": "execute_result"
    }
   ],
   "source": [
    "f1"
   ]
  }
 ],
 "metadata": {
  "kernelspec": {
   "display_name": "Python 3 (ipykernel)",
   "language": "python",
   "name": "python3"
  },
  "language_info": {
   "codemirror_mode": {
    "name": "ipython",
    "version": 3
   },
   "file_extension": ".py",
   "mimetype": "text/x-python",
   "name": "python",
   "nbconvert_exporter": "python",
   "pygments_lexer": "ipython3",
   "version": "3.11.4"
  }
 },
 "nbformat": 4,
 "nbformat_minor": 5
}
